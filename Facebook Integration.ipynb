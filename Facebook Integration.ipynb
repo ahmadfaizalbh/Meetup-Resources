{
 "cells": [
  {
   "cell_type": "markdown",
   "metadata": {
    "slideshow": {
     "slide_type": "slide"
    }
   },
   "source": [
    "# Integrating bot with Facebook chat"
   ]
  },
  {
   "cell_type": "markdown",
   "metadata": {
    "slideshow": {
     "slide_type": "subslide"
    }
   },
   "source": [
    "## Prerequisites\n",
    "1. Create a facebook page [https://www.facebook.com/pages/create/](https://www.facebook.com/pages/create/)\n",
    "2. Create a chat bot attached to facebook page and get App ID and secret\n",
    "3. Install facebook messenger module [https://github.com/ahmadfaizalbh/messengerbot](https://github.com/ahmadfaizalbh/messengerbot) "
   ]
  },
  {
   "cell_type": "markdown",
   "metadata": {
    "slideshow": {
     "slide_type": "subslide"
    }
   },
   "source": [
    "##### FaceBook Messenger bot developer guide\n",
    "[https://developers.facebook.com/docs/messenger-platform/complete-guide](https://developers.facebook.com/docs/messenger-platform/complete-guide)"
   ]
  },
  {
   "cell_type": "markdown",
   "metadata": {
    "slideshow": {
     "slide_type": "subslide"
    }
   },
   "source": [
    "##### Get App ID and Secret from bellow page\n",
    "![Facebook app page](https://github.com/ahmadfaizalbh/Meetup-Resources/raw/master/facebook%20bot%20config%20page.png)"
   ]
  },
  {
   "cell_type": "markdown",
   "metadata": {
    "slideshow": {
     "slide_type": "slide"
    }
   },
   "source": [
    "## webhook code"
   ]
  },
  {
   "cell_type": "markdown",
   "metadata": {
    "slideshow": {
     "slide_type": "subslide"
    }
   },
   "source": [
    "### urls.py\n",
    "```python\n",
    "urlpatterns = [\n",
    "    ....\n",
    "    url(r'^$',webhook,name=\"webhook\"),\n",
    "    ....\n",
    "]\n",
    "```"
   ]
  },
  {
   "cell_type": "markdown",
   "metadata": {
    "slideshow": {
     "slide_type": "subslide"
    }
   },
   "source": [
    "### views.py"
   ]
  },
  {
   "cell_type": "markdown",
   "metadata": {
    "slideshow": {
     "slide_type": "subslide"
    }
   },
   "source": [
    "#### import"
   ]
  },
  {
   "cell_type": "markdown",
   "metadata": {
    "slideshow": {
     "slide_type": "fragment"
    }
   },
   "source": [
    "```python\n",
    "from django.http import HttpResponse\n",
    "from django.views.decorators.csrf import csrf_exempt\n",
    "from messengerbot import MessengerClient, messages, attachments, templates, elements\n",
    "import json,wikipedia,urllib,os\n",
    "from chatbot import Chat, register_call\n",
    "```"
   ]
  },
  {
   "cell_type": "markdown",
   "metadata": {
    "slideshow": {
     "slide_type": "subslide"
    }
   },
   "source": [
    "#### Initialization"
   ]
  },
  {
   "cell_type": "markdown",
   "metadata": {
    "slideshow": {
     "slide_type": "fragment"
    }
   },
   "source": [
    "```python\n",
    "access_token = `< Access token >` \n",
    "VALIDATION_TOKEN=\"This_is_FFI_chatbot\"\n",
    "api_key = `< API key >` \n",
    "```"
   ]
  },
  {
   "cell_type": "markdown",
   "metadata": {
    "slideshow": {
     "slide_type": "subslide"
    }
   },
   "source": [
    "####  Initialize messenger client\n",
    "```python\n",
    "messenger = MessengerClient(access_token=access_token)\n",
    "```"
   ]
  },
  {
   "cell_type": "markdown",
   "metadata": {
    "slideshow": {
     "slide_type": "slide"
    }
   },
   "source": [
    "## Register Wikipedia Summary extraction\n",
    "Integrates the wikipedia API to the chatbot program by registering function\n",
    "```python\n",
    "@register_call(\"whoIs\")\n",
    "def whoIs(query,session_id=\"general\"):\n",
    "    try:\n",
    "        return wikipedia.summary(query)\n",
    "    except Exception:\n",
    "        for newquery in wikipedia.search(query):\n",
    "            try:\n",
    "                return wikipedia.summary(newquery)\n",
    "            except Exception:\n",
    "                pass\n",
    "    return \"I don't know about \"+query\n",
    "```"
   ]
  },
  {
   "cell_type": "markdown",
   "metadata": {
    "slideshow": {
     "slide_type": "subslide"
    }
   },
   "source": [
    "#### Initiate Chatbot\n",
    "```python\n",
    "template_file_path = os.path.join(os.path.dirname(os.path.abspath(__file__)),\n",
    "                                  \"chatbotTemplate\",\n",
    "                                   \"Example.template\"\n",
    "                                  )\n",
    "chat=Chat(template_file_path)\n",
    "```"
   ]
  },
  {
   "cell_type": "markdown",
   "metadata": {
    "collapsed": false,
    "slideshow": {
     "slide_type": "subslide"
    }
   },
   "source": [
    "#### Webhook handler\n",
    "```python\n",
    "@csrf_exempt\n",
    "def webhook(request):\n",
    "    if  request.method!=\"POST\":\n",
    "        #Validate URL\n",
    "        if request.GET['hub.verify_token'] == VALIDATION_TOKEN:\n",
    "            return HttpResponse(request.GET['hub.challenge'])\n",
    "        return HttpResponse(\"Failed validation. Make sure the validation tokens match.\")\n",
    "    return chathandler(request)    \n",
    "```"
   ]
  },
  {
   "cell_type": "markdown",
   "metadata": {
    "slideshow": {
     "slide_type": "subslide"
    }
   },
   "source": [
    "#### Chat handler\n",
    "```python\n",
    "def chathandler(request):\n",
    "    data = json.loads(request.body)\n",
    "    senderID=data[\"entry\"][0][\"messaging\"][0][\"sender\"]['id']\n",
    "    recipient = messages.Recipient(recipient_id=senderID)\n",
    "    # Send text message\n",
    "    for i in data[\"entry\"][0][\"messaging\"]:\n",
    "        if \"message\" in i: \n",
    "            if not senderID in chat.conversation:\n",
    "                #Initiate user info\n",
    "                initiateChat()\n",
    "            respondToClient(senderID,i[\"message\"][\"text\"])\n",
    "    return HttpResponse(\"It's working\")\n",
    "```"
   ]
  },
  {
   "cell_type": "markdown",
   "metadata": {},
   "source": [
    "#### Initate conversation\n",
    "```python\n",
    "def initiateChat(senderID):\n",
    "    chat._startNewSession(senderID)             \n",
    "    chat.conversation[senderID].append('Say \"Hello\"')\n",
    "    #Get Name of User from facebook\n",
    "    url = \"https://graph.facebook.com/v2.6/\" + senderID +\\\n",
    "          \"?fields=first_name,last_name,gender&access_token=\"+ access_token\n",
    "    userInfo=json.load(urllib.urlopen(url))\n",
    "    userInfo[\"name\"] = userInfo[\"first_name\"]\n",
    "    chat._memory[senderID].update(userInfo)\n",
    "```"
   ]
  },
  {
   "cell_type": "markdown",
   "metadata": {
    "slideshow": {
     "slide_type": "subslide"
    }
   },
   "source": [
    "#### Respond back to client by using Messengerbot\n",
    "```python\n",
    "def respondToClient(senderID,message):\n",
    "    chat.conversation[senderID].append(message)\n",
    "    while message[-1] in \".!\": message = message[:-1]\n",
    "    result = chat.respond(message,sessionID=senderID)               \n",
    "    chat.conversation[senderID].append(result)\n",
    "    response = messages.MessageRequest(recipient, messages.Message(text=result))\n",
    "    #send message to Messenger\n",
    "    messenger.send(response)\n",
    "```"
   ]
  }
 ],
 "metadata": {
  "kernelspec": {
   "display_name": "Python 2",
   "language": "python",
   "name": "python2"
  },
  "language_info": {
   "codemirror_mode": {
    "name": "ipython",
    "version": 2
   },
   "file_extension": ".py",
   "mimetype": "text/x-python",
   "name": "python",
   "nbconvert_exporter": "python",
   "pygments_lexer": "ipython2",
   "version": "2.7.6"
  }
 },
 "nbformat": 4,
 "nbformat_minor": 0
}
